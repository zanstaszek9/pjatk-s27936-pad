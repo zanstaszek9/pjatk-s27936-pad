{
  "nbformat": 4,
  "nbformat_minor": 0,
  "metadata": {
    "colab": {
      "provenance": [],
      "collapsed_sections": []
    },
    "kernelspec": {
      "name": "python3",
      "display_name": "Python 3"
    },
    "language_info": {
      "name": "python"
    }
  },
  "cells": [
    {
      "cell_type": "markdown",
      "source": [],
      "metadata": {
        "id": "R-cr3G1F3NGd"
      }
    },
    {
      "cell_type": "code",
      "source": [
        "# PAD 02\n",
        "# Praca Domowa 2 – Numpy\n",
        "# Zadanie 1 (7 pkt)\n",
        "# Korzystając z poniższego kodu oraz pliku president_heights.csv utwórz tablicę zawierającą wzrost prezydentów USA.\n",
        "\n",
        "# import pandas as pd\n",
        "# data = pd.read_csv('president_heights.csv')\n",
        "# heights = np.array(data['height(cm)'])\n",
        "# print(heights)\n",
        " \n",
        "# Korzystając z pakietu NumPy podaj:\n",
        "# - średni wzrost\n",
        "# - odchylenie standardowe\n",
        "# - najwyższy oraz najniższy wzrost:\n",
        "\n",
        "# print(\"Mean height:       \", )\n",
        "# print(\"Standard deviation:\", )\n",
        "# print(\"Minimum height:    \", )\n",
        "# print(\"Maximum height:    \", )\n",
        "\n",
        "# Podaj również 25 i 75 kwantyl oraz medianę:\n",
        "# print(\"25th percentile:   \", )\n",
        "# print(\"Median:            \", )\n",
        "# print(\"75th percentile:   \", )\n",
        "\n",
        "\n",
        "# Zadanie 2 (4 pkt)\n",
        "# Wgraj dane z pliku Zadanie_2.csv.\n",
        "# a.\tZnajdź wektory własne, oraz wartości własne dla zawartej w pliku macierzy\n",
        "# b.\tOblicz macierz odwrotną dla macierzy z pliku\n",
        "\n",
        "# Zadanie 3 (8 pkt)\n",
        "# Plik Seattle2014.csv zawiera informacje o rocznych opadach w Seattle w 2014. Wykorzystaj kod poniżej aby wczytać plik.\n",
        "\n",
        "# import numpy as np\n",
        "# import pandas as pd\n",
        "\n",
        "# # use pandas to extract rainfall inches as a NumPy array\n",
        "# rainfall = pd.read_csv('data/Seattle2014.csv')['PRCP'].values\n",
        "# inches = rainfall / 254.0  # 1/10mm -> inches\n",
        "# inches.shape\n",
        "\n",
        "# Możemy zwizualizować dane następującym kodem:\n",
        "# %matplotlib inline\n",
        "# import matplotlib.pyplot as plt\n",
        "# import seaborn; seaborn.set()  # set plot styles\n",
        "# plt.hist(inches, 40);\n",
        "\n",
        "# Wykorzystując operatory logiczne znajdź dni, kiedy [PODAJ LICZBĘ TYCH DNI]:\n",
        "# •\tNie padało\n",
        "# •\tPadało\n",
        "# •\tSpadło powyżej 0.5 cali (inch) deszczu\n",
        "# •\tSpadło poniżej 0.2 cali (inch) deszczu, ale padało!\n",
        "# Do wyświetlenia wyników skorzystaj z:\n",
        "# print(\"Number days without rain:      \", )\n",
        "# print(\"Number days with rain:         \", )\n",
        "# print(\"Days with more than 0.5 inches:\", )\n",
        "# print(\"Rainy days with < 0.2 inches  :\", )\n",
        "\n",
        "# Korzystając z maskowania policz następujące statystyki:\n",
        "# •\tMedianę opadów w deszczowe dni w 2014 roku\n",
        "# •\tMedianę opadów latem w 2014 roku (czyli dni pomiędzy dniem 172 a 262)\n",
        "# •\tMaksymalne opady latem 2014 roku\n",
        "# •\tMaksymalne opady poza latem 2014 roku (czyli wiosna, jesień i zima)\n",
        "# Do wyświetlenia wyników skorzystaj z:\n",
        "# print(\"Median precip on rainy days in 2014 (inches):   \")\n",
        "# print(\"Median precip on summer days in 2014 (inches):  \")\n",
        "# print(\"Maximum precip on summer days in 2014 (inches): \")\n",
        "# print(\"Median precip on non-summer rainy days (inches):\")\n",
        "\n",
        "# Zadanie 4 (5 pkt)\n",
        "# Dane są dwa wektory A i B. \n",
        "# A = [0,3,2,5]\n",
        "# B = [0,3,1,4]\n",
        "\n",
        "# Wykonaj następujące operacje:\n",
        "# •\tDodaj A i B\n",
        "# •\tOdejmij B od A\n",
        "# •\tPomnóż wektor A przez skalar a=4\n",
        "# •\tOblicz iloczyn skalarny wektorów A i B\n",
        "# •\tZnajdź długość wektora B\n",
        "# Te operacje można wykonać „ręcznie” w Pythonie, ale postaraj się znaleźć odpowiednie funkcje NumPy.\n"
      ],
      "metadata": {
        "id": "n-1qOHvd3cgE"
      },
      "execution_count": null,
      "outputs": []
    },
    {
      "cell_type": "code",
      "execution_count": 1,
      "metadata": {
        "id": "B01Gd92f0BXF"
      },
      "outputs": [],
      "source": [
        "import numpy as np"
      ]
    },
    {
      "cell_type": "markdown",
      "source": [
        "# Zadanie 1\n",
        "- średni wzrost\n",
        "- odchylenie standardowe\n",
        "- najwyższy oraz najniższy wzrost:\n",
        "\n",
        "Podaj również 25 i 75 kwantyl oraz medianę:"
      ],
      "metadata": {
        "id": "6EwWyIA52Qpz"
      }
    },
    {
      "cell_type": "code",
      "source": [
        "import pandas as pd\n",
        "data = pd.read_csv('president_heights.csv')\n",
        "\n",
        "heights = np.array(data['height(cm)'])\n",
        "\n",
        "print(heights)"
      ],
      "metadata": {
        "colab": {
          "base_uri": "https://localhost:8080/"
        },
        "id": "ORXJPAZl1PSB",
        "outputId": "e4436cf8-15d0-4eed-e6fa-8fc90dc795ef"
      },
      "execution_count": 5,
      "outputs": [
        {
          "output_type": "stream",
          "name": "stdout",
          "text": [
            "[189 170 189 163 183 171 185 168 173 183 173 173 175 178 183 193 178 173\n",
            " 174 183 183 168 170 178 182 180 183 178 182 188 175 179 183 193 182 183\n",
            " 177 185 188 188 182 185]\n"
          ]
        }
      ]
    },
    {
      "cell_type": "code",
      "source": [
        "mean_height = np.mean(heights)\n",
        "st_deviation_height = np.std(heights)\n",
        "max_height = np.max(heights)\n",
        "min_height = np.min(heights)\n",
        "\n",
        "percentile_25_height = np.percentile(heights, 25)\n",
        "median_height = np.median(heights)\n",
        "percentile_75_height = np.percentile(heights, 75)"
      ],
      "metadata": {
        "id": "jUmz_5yz5NXs"
      },
      "execution_count": 10,
      "outputs": []
    },
    {
      "cell_type": "code",
      "source": [
        "print(\"Mean height:       \", mean_height )\n",
        "print(\"Standard deviation:\", st_deviation_height)\n",
        "print(\"Minimum height:    \", min_height)\n",
        "print(\"Maximum height:    \", max_height)\n",
        "\n",
        "\n",
        "print(\"25th percentile:   \", percentile_25_height)\n",
        "print(\"Median:            \", median_height)\n",
        "print(\"75th percentile:   \", percentile_75_height)"
      ],
      "metadata": {
        "colab": {
          "base_uri": "https://localhost:8080/"
        },
        "id": "joyoCEyJ6Fnm",
        "outputId": "fbc71a50-8f67-4e1a-f428-1fa89b3e2cb1"
      },
      "execution_count": 11,
      "outputs": [
        {
          "output_type": "stream",
          "name": "stdout",
          "text": [
            "Mean height:        179.73809523809524\n",
            "Standard deviation: 6.931843442745892\n",
            "Minimum height:     163\n",
            "Maximum height:     193\n",
            "25th percentile:    174.25\n",
            "Median:             182.0\n",
            "75th percentile:    183.0\n"
          ]
        }
      ]
    },
    {
      "cell_type": "markdown",
      "source": [
        "Wgraj dane z pliku Zadanie_2.csv.\n",
        "- a.\tZnajdź wektory własne, oraz wartości własne dla zawartej w pliku macierzy\n",
        "-b.\tOblicz macierz odwrotną dla macierzy z pliku\n"
      ],
      "metadata": {
        "id": "ruyq_Zr__Cjx"
      }
    },
    {
      "cell_type": "code",
      "source": [
        "data_ex2 = pd.read_csv('Zadanie_2.csv', header=None, sep = ';')\n",
        "\n",
        "matrix_ex2 = np.array(data_ex2)\n",
        "\n",
        "print(matrix_ex2)"
      ],
      "metadata": {
        "colab": {
          "base_uri": "https://localhost:8080/"
        },
        "id": "f6t4Yc5S-lY5",
        "outputId": "87dae5a1-a73a-4f5f-be96-d5868429e229"
      },
      "execution_count": 12,
      "outputs": [
        {
          "output_type": "stream",
          "name": "stdout",
          "text": [
            "[[  1   2  15 -59   9   3  75   6   7   1]\n",
            " [  0   5   0   4   6  16  44   7   1   1]\n",
            " [  7  14   3 -10   9  15  73   8   2   9]\n",
            " [  1   5  15 -54   5  15  35   8   6   4]\n",
            " [  0   8   5 -18   7  16  91   6   7   9]\n",
            " [  7  18  23 -90   4   8  31   0   1   7]\n",
            " [  2   8  20 -72   4   1  91   9   4   4]\n",
            " [  4  12  18 -65   6   9  76   4   9   9]\n",
            " [  7  15  13 -52   5   7  54   2   7   0]\n",
            " [  2   9  15 -56   6   1  98   4   8   4]]\n"
          ]
        }
      ]
    },
    {
      "cell_type": "code",
      "source": [
        "values_ex2, vector_ex2 = np.linalg.eig(matrix_ex2)\n",
        "inverted_ex2 = np.linalg.inv(matrix_ex2)\n",
        "\n",
        "# print('wartosc wlasna: ', values_ex2)\n",
        "# print('wektor wlasny: ', vector_ex2)\n",
        "# print('macierz odwrotna: ', inverted_ex2)"
      ],
      "metadata": {
        "id": "glE4p6pTAgwB"
      },
      "execution_count": 14,
      "outputs": []
    },
    {
      "cell_type": "markdown",
      "source": [
        "Zadanie 3 (8 pkt)\n",
        "Plik Seattle2014.csv zawiera informacje o rocznych opadach w Seattle w 2014. "
      ],
      "metadata": {
        "id": "cSzd4hWJDYUx"
      }
    },
    {
      "cell_type": "code",
      "source": [
        "import numpy as np\n",
        "import pandas as pd\n",
        "\n",
        "# use pandas to extract rainfall inches as a NumPy array\n",
        "\n",
        "rainfall = pd.read_csv('Seattle2014.csv')['PRCP'].values\n",
        "\n",
        "inches = rainfall / 254.0  # 1/10mm -> inches\n",
        "inches.shape\n",
        "\n"
      ],
      "metadata": {
        "colab": {
          "base_uri": "https://localhost:8080/"
        },
        "id": "itv0fsz3DdpK",
        "outputId": "15052ae2-12b1-40bd-c705-efc3b70e9ad6"
      },
      "execution_count": 15,
      "outputs": [
        {
          "output_type": "execute_result",
          "data": {
            "text/plain": [
              "(365,)"
            ]
          },
          "metadata": {},
          "execution_count": 15
        }
      ]
    },
    {
      "cell_type": "code",
      "source": [
        "# Możemy zwizualizować dane następującym kodem:\n",
        "%matplotlib inline\n",
        "import matplotlib.pyplot as plt\n",
        "import seaborn; seaborn.set()  # set plot styles\n",
        "plt.hist(inches, 40);"
      ],
      "metadata": {
        "colab": {
          "base_uri": "https://localhost:8080/",
          "height": 268
        },
        "id": "6katFSC8Dgzq",
        "outputId": "2c2c834d-2538-4cf6-8497-dd92a6970480"
      },
      "execution_count": null,
      "outputs": [
        {
          "output_type": "display_data",
          "data": {
            "text/plain": [
              "<Figure size 432x288 with 1 Axes>"
            ],
            "image/png": "[encoded data removed]"
          },
          "metadata": {}
        }
      ]
    },
    {
      "cell_type": "code",
      "source": [
        "rainy_days_all = inches [inches > 0];\n",
        "rainy_days_below_05 = rainy_days_all[rainy_days_all < 0.2]\n",
        "\n",
        "FIRST_DAY_OF_SUMMER = 171\n",
        "LAST_DAY_OF_SUMMER = 262\n",
        "\n",
        "all_days_in_summer = inches[FIRST_DAY_OF_SUMMER:LAST_DAY_OF_SUMMER]\n",
        "all_days_besides_summer = np.concatenate((inches[0:FIRST_DAY_OF_SUMMER], inches[LAST_DAY_OF_SUMMER:0]))\n",
        "\n"
      ],
      "metadata": {
        "id": "WSHbx6DYES1Y"
      },
      "execution_count": 16,
      "outputs": []
    },
    {
      "cell_type": "code",
      "source": [
        "print(\"Number days without rain:      \", inches [inches== 0].size)\n",
        "print(\"Number days with rain:         \", rainy_days_all.size)\n",
        "print(\"Days with more than 0.5 inches:\", inches [inches > 0.5].size)\n",
        "print(\"Rainy days with < 0.2 inches  :\", rainy_days_below_05.size)\n",
        "\n",
        "print()\n",
        "\n",
        "print(\"Median precip on rainy days in 2014 (inches):   \", np.median(rainy_days_all))\n",
        "print(\"Median precip on summer days in 2014 (inches):  \", np.median(all_days_in_summer))\n",
        "print(\"Maximum precip on summer days in 2014 (inches): \", np.max(all_days_in_summer))\n",
        "print(\"Median precip on non-summer rainy days (inches):\", np.median(all_days_in_summer[all_days_in_summer > 0]))"
      ],
      "metadata": {
        "colab": {
          "base_uri": "https://localhost:8080/"
        },
        "id": "qMMD9CdeESqp",
        "outputId": "9f7f2fe4-27ea-4cd0-8c23-f70e2419dffb"
      },
      "execution_count": 17,
      "outputs": [
        {
          "output_type": "stream",
          "name": "stdout",
          "text": [
            "Number days without rain:       215\n",
            "Number days with rain:          150\n",
            "Days with more than 0.5 inches: 37\n",
            "Rainy days with < 0.2 inches  : 75\n",
            "\n",
            "Median precip on rainy days in 2014 (inches):    0.19488188976377951\n",
            "Median precip on summer days in 2014 (inches):   0.0\n",
            "Maximum precip on summer days in 2014 (inches):  0.8503937007874016\n",
            "Median precip on non-summer rainy days (inches): 0.0610236220472441\n"
          ]
        }
      ]
    },
    {
      "cell_type": "code",
      "source": [
        "# Zadanie 4 (5 pkt)\n",
        "# Dane są dwa wektory A i B. \n",
        "# A = [0,3,2,5]\n",
        "# B = [0,3,1,4]\n",
        "\n",
        "# Wykonaj następujące operacje:\n",
        "# •\tDodaj A i B\n",
        "# •\tOdejmij B od A\n",
        "# •\tPomnóż wektor A przez skalar a=4\n",
        "# •\tOblicz iloczyn skalarny wektorów A i B\n",
        "# •\tZnajdź długość wektora B\n",
        "# Te operacje można wykonać „ręcznie” w Pythonie, ale postaraj się znaleźć odpowiednie funkcje NumPy."
      ],
      "metadata": {
        "id": "cY7CxQupDg5p"
      },
      "execution_count": null,
      "outputs": []
    },
    {
      "cell_type": "code",
      "source": [
        "ex4_a = np.array([0,3,2,5])\n",
        "ex4_b = np.array([0,3,1,4])"
      ],
      "metadata": {
        "id": "BGvuxuBmHYdi"
      },
      "execution_count": 19,
      "outputs": []
    },
    {
      "cell_type": "code",
      "source": [
        "print('Vectors sum:                           ', (ex4_a + ex4_b))\n",
        "print('Vectors difference:                    ', (ex4_a - ex4_b))\n",
        "print('Vector A multiplication by scalar:     ', ex4_a * 4)\n",
        "print('Dot product of Vector A and Vector B:  ', np.dot(ex4_a, ex4_b))\n",
        "print('Vector B magnitude:                    ', np.linalg.norm(ex4_b))"
      ],
      "metadata": {
        "colab": {
          "base_uri": "https://localhost:8080/"
        },
        "id": "OoycJgdsHYPp",
        "outputId": "883747cf-3581-4be7-bfc0-25e9aca4fa84"
      },
      "execution_count": 20,
      "outputs": [
        {
          "output_type": "stream",
          "name": "stdout",
          "text": [
            "Vectors sum:                            [0 6 3 9]\n",
            "Vectors difference:                     [0 0 1 1]\n",
            "Vector A multiplication by scalar:      [ 0 12  8 20]\n",
            "Dot product of Vector A and Vector B:   31\n",
            "Vector B magnitude:                     5.0990195135927845\n"
          ]
        }
      ]
    }
  ]
}